{
  "nbformat": 4,
  "nbformat_minor": 0,
  "metadata": {
    "colab": {
      "name": "preloadednotebook.ipynb",
      "provenance": [],
      "collapsed_sections": [],
      "authorship_tag": "ABX9TyNLcAquijy2N58eqLnIYiJJ",
      "include_colab_link": true
    },
    "kernelspec": {
      "name": "python3",
      "display_name": "Python 3"
    },
    "language_info": {
      "name": "python"
    }
  },
  "cells": [
    {
      "cell_type": "markdown",
      "metadata": {
        "id": "view-in-github",
        "colab_type": "text"
      },
      "source": [
        "<a href=\"https://colab.research.google.com/github/hamid-shojaei/assets/blob/main/preloadednotebook.ipynb\" target=\"_parent\"><img src=\"https://colab.research.google.com/assets/colab-badge.svg\" alt=\"Open In Colab\"/></a>"
      ]
    },
    {
      "cell_type": "markdown",
      "source": [
        "# _Initiation: load google drive and required things\n",
        "\n",
        "Load the default person and required libraries"
      ],
      "metadata": {
        "id": "MGdH3EWfnDMK"
      }
    },
    {
      "cell_type": "code",
      "source": [
        "import os\n",
        "\n",
        "import time\n",
        "import datetime as dt\n",
        "\n",
        "import numpy as np\n",
        "import pandas as pd\n",
        "\n",
        "import matplotlib.pyplot as plt\n",
        "import seaborn as sns\n",
        "sns.set_theme()\n",
        "\n",
        "import pickle\n",
        "import json\n",
        "\n",
        "from google.colab import drive\n",
        "drive.mount('/content/drive')\n",
        "\n",
        "\n",
        "all_path = {\n",
        "'hamid_shojaei' : \"/content/drive/MyDrive/2.Active/AIML/Charter/Charter_June_2022\",\n",
        "'iman_khazrak' : \"/content/drive/MyDrive/7. Project/2. Hamid/Charter_June_2022\", # Iman\n",
        "}\n",
        "\n",
        "\n",
        "# Read JSON file\n",
        "my_info_addr = '/content/drive/MyDrive/Colab Notebooks/my_info.json'\n",
        "\n",
        "try:\n",
        "    with open(my_info_addr) as data_file:\n",
        "        my_info = json.load(data_file)\n",
        "    full_name = my_info['firstname'].lower()+'_'+my_info['lastname'].lower()\n",
        "    main_path = all_path[full_name]\n",
        "except:\n",
        "    main_path = \"/content\"\n",
        "print(main_path)"
      ],
      "metadata": {
        "id": "RDYsXyBHnQUP"
      },
      "execution_count": null,
      "outputs": []
    },
    {
      "cell_type": "code",
      "source": [
        ""
      ],
      "metadata": {
        "id": "4S9M6iYUx6NG"
      },
      "execution_count": null,
      "outputs": []
    }
  ]
}